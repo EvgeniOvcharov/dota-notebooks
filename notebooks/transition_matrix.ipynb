{
 "metadata": {
  "language_info": {
   "codemirror_mode": {
    "name": "ipython",
    "version": 3
   },
   "file_extension": ".py",
   "mimetype": "text/x-python",
   "name": "python",
   "nbconvert_exporter": "python",
   "pygments_lexer": "ipython3",
   "version": "3.8.2-final"
  },
  "orig_nbformat": 2,
  "kernelspec": {
   "name": "Python 3.8.2 64-bit (conda)",
   "display_name": "Python 3.8.2 64-bit (conda)",
   "metadata": {
    "interpreter": {
     "hash": "fabbc796d3066c9e2f33485ea2d46143cc03ed644ed5b88336f335d6c7568d25"
    }
   }
  }
 },
 "nbformat": 4,
 "nbformat_minor": 2,
 "cells": [
  {
   "cell_type": "code",
   "execution_count": 3,
   "metadata": {},
   "outputs": [],
   "source": [
    "import pandas as pd\n",
    "import numpy as np"
   ]
  },
  {
   "cell_type": "code",
   "execution_count": 30,
   "metadata": {},
   "outputs": [
    {
     "output_type": "stream",
     "name": "stdout",
     "text": [
      "    20  21  22  23  24  25  26  27  28  29\n20   0   0   0   0   0   6   0   0   3   0\n21   3   0   0   0   0   0   0   3   0   3\n22   0   3   0   3   0   0   0   0   3   0\n23   3   0   0   0   3   0   3   0   3   0\n24   0   0   0   6   0   0   0   3   0   3\n25   0   0   3   0   0   0   0   0   3   0\n26   0   0   0   3   3   0   0   0   3   0\n27   0   3   0   0   3   0   0   0   0   3\n28   0   0   3   3   0   0   3   3   0   6\n29   3   3   0   0   3   0   3   0   3   0\n"
     ]
    }
   ],
   "source": [
    "some_ints_1 = pd.Series(np.random.randint(20, 30, size=40))\n",
    "some_ints_2 = pd.Series(np.random.randint(20, 30, size=40))\n",
    "\n",
    "df = pd.DataFrame()\n",
    "# df['A'] = some_ints_1\n",
    "df['B'] = some_ints_2\n",
    "\n",
    "numbers = sorted(df['B'].unique())\n",
    "# print(numbers)\n",
    "\n",
    "df['C'] = df.shift(-1)\n",
    "# print(df)\n",
    "\n",
    "groups = df.groupby(['B', 'C'])\n",
    "counts = {i[0]:(len(i[1]) if i[0][0] != i[0][1] else 0) for i in groups} # don't count (816,816)\n",
    "# counts = {i[0]:len(i[1]) for i in groups} # count even (816,816)\n",
    "# print(counts)\n",
    "\n",
    "matrix = pd.DataFrame()\n",
    "\n",
    "for x in numbers:\n",
    "    matrix[str(x)] = pd.Series([counts.get((x, y), 0) for y in numbers], index=numbers)\n",
    "\n",
    "print(matrix + matrix + matrix)\n",
    "\n",
    "def construct_transition_matrix(ts):\n",
    "    df = pd.DataFrame()\n",
    "    df['B'] = ts\n",
    "\n",
    "    elements = sorted(df['B'].unique())\n"
   ]
  },
  {
   "cell_type": "code",
   "execution_count": null,
   "metadata": {},
   "outputs": [],
   "source": []
  }
 ]
}
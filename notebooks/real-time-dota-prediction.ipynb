{
 "cells": [
  {
   "cell_type": "markdown",
   "metadata": {},
   "source": [
    "# Real-time Dota predictions"
   ]
  },
  {
   "cell_type": "markdown",
   "metadata": {},
   "source": [
    "### Imports"
   ]
  },
  {
   "cell_type": "code",
   "execution_count": 74,
   "metadata": {},
   "outputs": [],
   "source": [
    "import pandas as pd\n",
    "import numpy as np\n",
    "import seaborn as sns\n",
    "from matplotlib.pyplot import figure\n",
    "import matplotlib.pyplot as plt\n",
    "from matplotlib.dates import DateFormatter\n",
    "\n",
    "from sklearn.linear_model import LogisticRegression\n",
    "from sklearn.model_selection import train_test_split\n",
    "from sklearn.metrics import roc_curve, plot_roc_curve, roc_auc_score\n",
    "\n",
    "# interactive viz\n",
    "from __future__ import print_function\n",
    "from ipywidgets import interact, interactive, fixed, interact_manual\n",
    "import ipywidgets as widgets\n",
    "\n",
    "from scipy.stats import shapiro\n",
    "from statsmodels.graphics.gofplots import qqplot\n",
    "\n",
    "from sklearn.preprocessing import PowerTransformer\n",
    "\n",
    "%matplotlib inline"
   ]
  },
  {
   "cell_type": "code",
   "execution_count": 5,
   "metadata": {},
   "outputs": [],
   "source": [
    "plt.style.use('default')"
   ]
  },
  {
   "cell_type": "code",
   "execution_count": 9,
   "metadata": {},
   "outputs": [],
   "source": [
    "time_df = pd.read_csv('../data/player_time.csv')\n",
    "matches_df = pd.read_csv(\"../data/match.csv\")\n",
    "player_df = pd.read_csv(\"../data/players.csv\")\n",
    "\n",
    "matches_df.set_index('match_id');"
   ]
  },
  {
   "cell_type": "markdown",
   "metadata": {},
   "source": [
    "### Helper methods"
   ]
  },
  {
   "cell_type": "code",
   "execution_count": 10,
   "metadata": {},
   "outputs": [],
   "source": [
    "# todo: move those in a separate module\n",
    "\n",
    "RAD_GLD_COLS = [f'gold_t_{i}' for i in range(0, 5)]\n",
    "DIR_GLD_COLS = [f'gold_t_{i}' for i in range(128, 133)]\n",
    "\n",
    "RAD_XP_COLS = [f'xp_t_{i}' for i in range(0, 5)]\n",
    "DIR_XP_COLS = [f'xp_t_{i}' for i in range(128, 133)]\n",
    "\n",
    "def get_mean_gold_difference(df):\n",
    "    return df[RAD_GLD_COLS].mean(axis=1) - df[DIR_GLD_COLS].mean(axis=1)\n",
    "\n",
    "def get_mean_xp_difference(df):\n",
    "    return df[RAD_XP_COLS].mean(axis=1) - df[DIR_XP_COLS].mean(axis=1)"
   ]
  },
  {
   "cell_type": "markdown",
   "metadata": {},
   "source": [
    "### Data pre-configuration"
   ]
  },
  {
   "cell_type": "code",
   "execution_count": 11,
   "metadata": {},
   "outputs": [],
   "source": [
    "time_df['mean_gold_diff'] = get_mean_gold_difference(time_df)\n",
    "time_df['mean_xp_diff'] = get_mean_xp_difference(time_df)\n",
    "\n",
    "# set time and join with radiant win\n",
    "time_df['times'] = pd.to_datetime(time_df['times'], unit='s') # turn the seconds to real time\n",
    "match_time_df = time_df.pivot(index='match_id', columns='times', values='mean_gold_diff')"
   ]
  },
  {
   "cell_type": "markdown",
   "metadata": {},
   "source": [
    "### Data Exploration on a particular match"
   ]
  },
  {
   "cell_type": "code",
   "execution_count": 12,
   "metadata": {},
   "outputs": [
    {
     "output_type": "display_data",
     "data": {
      "text/plain": "interactive(children=(IntSlider(value=25, description='match', max=50, min=1), Output()), _dom_classes=('widge…",
      "application/vnd.jupyter.widget-view+json": {
       "version_major": 2,
       "version_minor": 0,
       "model_id": "a889e00115cf41bebc67296f4380fcd3"
      }
     },
     "metadata": {}
    }
   ],
   "source": [
    "@widgets.interact()\n",
    "def show_match(match=(1, 50)):\n",
    "\n",
    "    plt.figure(figsize=(20, 6))\n",
    "    plt.grid(True)\n",
    "\n",
    "    some_match = time_df[time_df['match_id'] == match]\n",
    "    does_win = matches_df.at[match, 'radiant_win']\n",
    "    winner = 'Radiant' if does_win else 'Dire'\n",
    "\n",
    "    g1 = sns.lineplot(data=some_match, y='mean_gold_diff', x='times', label='Teams Mean Gold Different')\n",
    "    g2 = sns.lineplot(data=some_match, y='mean_xp_diff', x='times', label='Teams Mean Experience Different')\n",
    "\n",
    "    date_form = DateFormatter(\"%M\")\n",
    "    g1.xaxis.set_major_formatter(date_form)\n",
    "\n",
    "    x_label = f'minutes \\ {winner} wins'\n",
    "\n",
    "    g1.set(xlabel=x_label, ylabel='Radiant \\ Dire Gold and Experience Difference');\n",
    "    return match"
   ]
  },
  {
   "source": [
    "## Explore the predictors on a 5 minutes interval"
   ],
   "cell_type": "markdown",
   "metadata": {}
  },
  {
   "cell_type": "code",
   "execution_count": 76,
   "metadata": {},
   "outputs": [
    {
     "output_type": "display_data",
     "data": {
      "text/plain": "interactive(children=(IntSlider(value=30, description='minute', max=60, min=1), Output()), _dom_classes=('widg…",
      "application/vnd.jupyter.widget-view+json": {
       "version_major": 2,
       "version_minor": 0,
       "model_id": "ef738fa79a9d4afea6cbf7517972a48e"
      }
     },
     "metadata": {}
    }
   ],
   "source": [
    "@widgets.interact()\n",
    "def plot_mean_gold_difference(minute = (1, 60)):\n",
    "    sns.distplot(match_time_df.iloc[:, minute])\n",
    "    return minute"
   ]
  },
  {
   "source": [
    "## Interactive QQ plot"
   ],
   "cell_type": "code",
   "metadata": {},
   "execution_count": 79,
   "outputs": []
  },
  {
   "cell_type": "code",
   "execution_count": 72,
   "metadata": {},
   "outputs": [
    {
     "output_type": "display_data",
     "data": {
      "text/plain": "interactive(children=(IntSlider(value=30, description='minute', max=60, min=1), Output()), _dom_classes=('widg…",
      "application/vnd.jupyter.widget-view+json": {
       "version_major": 2,
       "version_minor": 0,
       "model_id": "d15a19f211f441fdab9de8c099b11780"
      }
     },
     "metadata": {}
    }
   ],
   "source": [
    "@widgets.interact()\n",
    "def qqplot_of_gold_by_minute(minute = (1, 60)):\n",
    "    qqplot(match_time_df.iloc[:, minute])\n",
    "    return minute"
   ]
  },
  {
   "source": [
    "## Test for normality using Shapiro test"
   ],
   "cell_type": "markdown",
   "metadata": {}
  },
  {
   "cell_type": "code",
   "execution_count": 77,
   "metadata": {},
   "outputs": [
    {
     "output_type": "display_data",
     "data": {
      "text/plain": "interactive(children=(IntSlider(value=30, description='minute', max=60, min=1), Output()), _dom_classes=('widg…",
      "application/vnd.jupyter.widget-view+json": {
       "version_major": 2,
       "version_minor": 0,
       "model_id": "ea28ef18ba4b49c0881a13a91731dc6b"
      }
     },
     "metadata": {}
    }
   ],
   "source": [
    "@widgets.interact()\n",
    "def shapiro_wilk_test_by_minute(minute=(1, 60)):\n",
    "    stat, p = shapiro(match_time_df.iloc[:, minute].dropna().to_numpy())\n",
    "    print('Statistics=%.3f, p=%.3f' % (stat, p))\n",
    "    # interpret\n",
    "    alpha = 0.05\n",
    "    if p > alpha:\n",
    "        print('Sample looks Gaussian (fail to reject H0)')\n",
    "    else:\n",
    "        print('Sample does not look Gaussian (reject H0)')\n"
   ]
  },
  {
   "cell_type": "code",
   "execution_count": null,
   "metadata": {},
   "outputs": [],
   "source": []
  },
  {
   "cell_type": "markdown",
   "metadata": {},
   "source": [
    "## Logistic regression on a time window of 5 minutes"
   ]
  },
  {
   "cell_type": "code",
   "execution_count": 80,
   "metadata": {},
   "outputs": [],
   "source": [
    "def train(X_train, y_train, minute, model = LogisticRegression()):\n",
    "    ncols = X_train.shape[1]\n",
    "    start = max(0, minute - 6)\n",
    "    end = min(ncols - 1, minute - 1)\n",
    "\n",
    "    is_present = -X_train.iloc[:, start:end].isna().any(axis=1)\n",
    "\n",
    "    return model.fit(X_train[is_present].iloc[:, start:end], y_train[is_present])"
   ]
  },
  {
   "cell_type": "code",
   "execution_count": 81,
   "metadata": {},
   "outputs": [],
   "source": [
    "X_train, X_test, y_train, y_test = train_test_split(match_time_df, matches_df['radiant_win'], test_size=0.8, random_state=1)\n",
    "\n",
    "test_match = X_test.iloc[10:11, :]\n",
    "does_win = y_test[0]\n",
    "\n",
    "model = train(X_train, y_train, 26)\n",
    "\n",
    "game_minutes = range(6, 40)\n",
    "models = [(train(X_train, y_train, minute), minute) for minute in game_minutes]\n",
    "probs = [model.predict_proba(X_test.iloc[6:7, i-6:i-1].dropna())[0] for model, i in models]"
   ]
  },
  {
   "cell_type": "markdown",
   "metadata": {
    "jupyter": {
     "source_hidden": true
    }
   },
   "source": [
    "## Probability of winning visualization\n"
   ]
  },
  {
   "cell_type": "code",
   "execution_count": 82,
   "metadata": {},
   "outputs": [
    {
     "output_type": "display_data",
     "data": {
      "text/plain": "interactive(children=(Dropdown(description='match_id', options=(26247, 35067, 34590, 16668, 12196, 2600, 9047,…",
      "application/vnd.jupyter.widget-view+json": {
       "version_major": 2,
       "version_minor": 0,
       "model_id": "7369af4d060e4e42afd9c1ba3b2f392b"
      }
     },
     "metadata": {}
    }
   ],
   "source": [
    "match_id = X_test.index[0]\n",
    "\n",
    "match = X_test.iloc[match_id:match_id+1, :]\n",
    "probs = [model.predict_proba(match.iloc[:, i-6:i-1].dropna())[0] for model, i in models]\n",
    "probs_df = pd.DataFrame([{'radiant_win_probability': prob[1], 'dire_win_probability': prob[0]} for prob in probs])\n",
    "\n",
    "probs_df['radiant_win_probability']\n",
    "winner = 'Radiant' if does_win else 'Dire'\n",
    "x_indexer = range(6, 40)\n",
    "g1 = sns.lineplot(data=probs_df, y='dire_win_probability', x=x_indexer, label='Dire Wins')\n",
    "g2 = sns.lineplot(data=probs_df, y='radiant_win_probability', x=x_indexer, label='Radiant Wins')\n",
    "\n",
    "g1.set(xlabel=f'minutes of the game \\ {winner} wins', ylabel='Teams win probability');"
   ]
  },
  {
   "cell_type": "code",
   "execution_count": null,
   "metadata": {},
   "outputs": [],
   "source": []
  }
 ],
 "metadata": {
  "kernelspec": {
   "display_name": "Python 3",
   "language": "python",
   "name": "python3"
  },
  "language_info": {
   "codemirror_mode": {
    "name": "ipython",
    "version": 3
   },
   "file_extension": ".py",
   "mimetype": "text/x-python",
   "name": "python",
   "nbconvert_exporter": "python",
   "pygments_lexer": "ipython3",
   "version": "3.8.2-final"
  }
 },
 "nbformat": 4,
 "nbformat_minor": 4
}
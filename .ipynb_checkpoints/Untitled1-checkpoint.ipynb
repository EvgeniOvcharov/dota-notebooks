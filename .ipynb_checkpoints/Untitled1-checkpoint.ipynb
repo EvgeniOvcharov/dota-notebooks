{
 "cells": [
  {
   "cell_type": "markdown",
   "metadata": {},
   "source": [
    "# Real-time Dota predictions"
   ]
  },
  {
   "cell_type": "markdown",
   "metadata": {},
   "source": [
    "### Imports"
   ]
  },
  {
   "cell_type": "code",
   "execution_count": 1,
   "metadata": {},
   "outputs": [],
   "source": [
    "import pandas as pd\n",
    "import numpy as np\n",
    "import seaborn as sns\n",
    "from matplotlib.pyplot import figure\n",
    "import matplotlib.pyplot as plt\n",
    "from matplotlib.dates import DateFormatter\n",
    "\n",
    "from sklearn.linear_model import LogisticRegression\n",
    "from sklearn.model_selection import train_test_split\n",
    "from sklearn.metrics import roc_curve, plot_roc_curve, roc_auc_score\n",
    "\n",
    "# interactive viz\n",
    "from __future__ import print_function\n",
    "from ipywidgets import interact, interactive, fixed, interact_manual\n",
    "import ipywidgets as widgets\n",
    "\n",
    "%matplotlib inline"
   ]
  },
  {
   "cell_type": "code",
   "execution_count": 2,
   "metadata": {},
   "outputs": [],
   "source": [
    "plt.style.use('default')"
   ]
  },
  {
   "cell_type": "code",
   "execution_count": 12,
   "metadata": {},
   "outputs": [],
   "source": [
    "time_df = pd.read_csv('./data/player_time.csv')\n",
    "matches_df = pd.read_csv(\"./data/match.csv\")\n",
    "player_df = pd.read_csv(\"./data/players.csv\")\n",
    "\n",
    "# matches_df.set_index('match_id')"
   ]
  },
  {
   "cell_type": "code",
   "execution_count": 25,
   "metadata": {},
   "outputs": [
    {
     "data": {
      "text/html": [
       "<div>\n",
       "<style scoped>\n",
       "    .dataframe tbody tr th:only-of-type {\n",
       "        vertical-align: middle;\n",
       "    }\n",
       "\n",
       "    .dataframe tbody tr th {\n",
       "        vertical-align: top;\n",
       "    }\n",
       "\n",
       "    .dataframe thead th {\n",
       "        text-align: right;\n",
       "    }\n",
       "</style>\n",
       "<table border=\"1\" class=\"dataframe\">\n",
       "  <thead>\n",
       "    <tr style=\"text-align: right;\">\n",
       "      <th></th>\n",
       "      <th>match_id</th>\n",
       "      <th>times</th>\n",
       "      <th>gold_t_0</th>\n",
       "      <th>lh_t_0</th>\n",
       "      <th>xp_t_0</th>\n",
       "      <th>gold_t_1</th>\n",
       "      <th>lh_t_1</th>\n",
       "      <th>xp_t_1</th>\n",
       "      <th>gold_t_2</th>\n",
       "      <th>lh_t_2</th>\n",
       "      <th>...</th>\n",
       "      <th>lh_t_130</th>\n",
       "      <th>xp_t_130</th>\n",
       "      <th>gold_t_131</th>\n",
       "      <th>lh_t_131</th>\n",
       "      <th>xp_t_131</th>\n",
       "      <th>gold_t_132</th>\n",
       "      <th>lh_t_132</th>\n",
       "      <th>xp_t_132</th>\n",
       "      <th>mean_gold_diff</th>\n",
       "      <th>mean_xp_diff</th>\n",
       "    </tr>\n",
       "  </thead>\n",
       "  <tbody>\n",
       "    <tr>\n",
       "      <th>0</th>\n",
       "      <td>0</td>\n",
       "      <td>1970-01-01 00:00:00</td>\n",
       "      <td>0</td>\n",
       "      <td>0</td>\n",
       "      <td>0</td>\n",
       "      <td>0</td>\n",
       "      <td>0</td>\n",
       "      <td>0</td>\n",
       "      <td>0</td>\n",
       "      <td>0</td>\n",
       "      <td>...</td>\n",
       "      <td>0</td>\n",
       "      <td>0</td>\n",
       "      <td>0</td>\n",
       "      <td>0</td>\n",
       "      <td>0</td>\n",
       "      <td>0</td>\n",
       "      <td>0</td>\n",
       "      <td>0</td>\n",
       "      <td>0.0</td>\n",
       "      <td>0.0</td>\n",
       "    </tr>\n",
       "    <tr>\n",
       "      <th>1</th>\n",
       "      <td>0</td>\n",
       "      <td>1970-01-01 00:01:00</td>\n",
       "      <td>409</td>\n",
       "      <td>0</td>\n",
       "      <td>63</td>\n",
       "      <td>142</td>\n",
       "      <td>1</td>\n",
       "      <td>186</td>\n",
       "      <td>168</td>\n",
       "      <td>0</td>\n",
       "      <td>...</td>\n",
       "      <td>6</td>\n",
       "      <td>351</td>\n",
       "      <td>100</td>\n",
       "      <td>0</td>\n",
       "      <td>77</td>\n",
       "      <td>613</td>\n",
       "      <td>1</td>\n",
       "      <td>125</td>\n",
       "      <td>-51.4</td>\n",
       "      <td>0.0</td>\n",
       "    </tr>\n",
       "    <tr>\n",
       "      <th>2</th>\n",
       "      <td>0</td>\n",
       "      <td>1970-01-01 00:02:00</td>\n",
       "      <td>546</td>\n",
       "      <td>0</td>\n",
       "      <td>283</td>\n",
       "      <td>622</td>\n",
       "      <td>4</td>\n",
       "      <td>645</td>\n",
       "      <td>330</td>\n",
       "      <td>0</td>\n",
       "      <td>...</td>\n",
       "      <td>12</td>\n",
       "      <td>805</td>\n",
       "      <td>200</td>\n",
       "      <td>0</td>\n",
       "      <td>210</td>\n",
       "      <td>815</td>\n",
       "      <td>5</td>\n",
       "      <td>323</td>\n",
       "      <td>-51.0</td>\n",
       "      <td>11.6</td>\n",
       "    </tr>\n",
       "    <tr>\n",
       "      <th>3</th>\n",
       "      <td>0</td>\n",
       "      <td>1970-01-01 00:03:00</td>\n",
       "      <td>683</td>\n",
       "      <td>1</td>\n",
       "      <td>314</td>\n",
       "      <td>927</td>\n",
       "      <td>9</td>\n",
       "      <td>1202</td>\n",
       "      <td>430</td>\n",
       "      <td>0</td>\n",
       "      <td>...</td>\n",
       "      <td>16</td>\n",
       "      <td>1135</td>\n",
       "      <td>300</td>\n",
       "      <td>0</td>\n",
       "      <td>210</td>\n",
       "      <td>1290</td>\n",
       "      <td>8</td>\n",
       "      <td>527</td>\n",
       "      <td>-113.4</td>\n",
       "      <td>18.2</td>\n",
       "    </tr>\n",
       "    <tr>\n",
       "      <th>4</th>\n",
       "      <td>0</td>\n",
       "      <td>1970-01-01 00:04:00</td>\n",
       "      <td>956</td>\n",
       "      <td>1</td>\n",
       "      <td>485</td>\n",
       "      <td>1264</td>\n",
       "      <td>11</td>\n",
       "      <td>1583</td>\n",
       "      <td>530</td>\n",
       "      <td>0</td>\n",
       "      <td>...</td>\n",
       "      <td>26</td>\n",
       "      <td>1842</td>\n",
       "      <td>400</td>\n",
       "      <td>0</td>\n",
       "      <td>210</td>\n",
       "      <td>1431</td>\n",
       "      <td>9</td>\n",
       "      <td>589</td>\n",
       "      <td>-110.0</td>\n",
       "      <td>55.6</td>\n",
       "    </tr>\n",
       "  </tbody>\n",
       "</table>\n",
       "<p>5 rows × 34 columns</p>\n",
       "</div>"
      ],
      "text/plain": [
       "   match_id               times  gold_t_0  lh_t_0  xp_t_0  gold_t_1  lh_t_1  \\\n",
       "0         0 1970-01-01 00:00:00         0       0       0         0       0   \n",
       "1         0 1970-01-01 00:01:00       409       0      63       142       1   \n",
       "2         0 1970-01-01 00:02:00       546       0     283       622       4   \n",
       "3         0 1970-01-01 00:03:00       683       1     314       927       9   \n",
       "4         0 1970-01-01 00:04:00       956       1     485      1264      11   \n",
       "\n",
       "   xp_t_1  gold_t_2  lh_t_2  ...  lh_t_130  xp_t_130  gold_t_131  lh_t_131  \\\n",
       "0       0         0       0  ...         0         0           0         0   \n",
       "1     186       168       0  ...         6       351         100         0   \n",
       "2     645       330       0  ...        12       805         200         0   \n",
       "3    1202       430       0  ...        16      1135         300         0   \n",
       "4    1583       530       0  ...        26      1842         400         0   \n",
       "\n",
       "   xp_t_131  gold_t_132  lh_t_132  xp_t_132  mean_gold_diff  mean_xp_diff  \n",
       "0         0           0         0         0             0.0           0.0  \n",
       "1        77         613         1       125           -51.4           0.0  \n",
       "2       210         815         5       323           -51.0          11.6  \n",
       "3       210        1290         8       527          -113.4          18.2  \n",
       "4       210        1431         9       589          -110.0          55.6  \n",
       "\n",
       "[5 rows x 34 columns]"
      ]
     },
     "execution_count": 25,
     "metadata": {},
     "output_type": "execute_result"
    }
   ],
   "source": [
    "time_df.head(5)"
   ]
  },
  {
   "cell_type": "markdown",
   "metadata": {},
   "source": [
    "### Helper methods"
   ]
  },
  {
   "cell_type": "code",
   "execution_count": 17,
   "metadata": {},
   "outputs": [],
   "source": [
    "RAD_GLD_COLS = [f'gold_t_{i}' for i in range(0, 5)]\n",
    "DIR_GLD_COLS = [f'gold_t_{i}' for i in range(128, 133)]\n",
    "\n",
    "RAD_XP_COLS = [f'xp_t_{i}' for i in range(0, 5)]\n",
    "DIR_XP_COLS = [f'xp_t_{i}' for i in range(128, 133)]\n",
    "\n",
    "def get_mean_gold_difference(df):\n",
    "    return df[RAD_GLD_COLS].mean(axis=1) - df[DIR_GLD_COLS].mean(axis=1)\n",
    "\n",
    "def get_mean_xp_difference(df):\n",
    "    return df[RAD_XP_COLS].mean(axis=1) - df[DIR_XP_COLS].mean(axis=1)"
   ]
  },
  {
   "cell_type": "markdown",
   "metadata": {},
   "source": [
    "### Data pre-configuration"
   ]
  },
  {
   "cell_type": "code",
   "execution_count": 18,
   "metadata": {},
   "outputs": [],
   "source": [
    "time_df['mean_gold_diff'] = get_mean_gold_difference(time_df)\n",
    "time_df['mean_xp_diff'] = get_mean_xp_difference(time_df)\n",
    "\n",
    "# set time and join with radiant win\n",
    "time_df['times'] = pd.to_datetime(time_df['times'], unit='s') # turn the seconds to real time\n",
    "match_time_df = time_df.pivot(index='match_id', columns='times', values='mean_gold_diff')"
   ]
  },
  {
   "cell_type": "markdown",
   "metadata": {},
   "source": [
    "### Data Exploration on a particular match"
   ]
  },
  {
   "cell_type": "code",
   "execution_count": 21,
   "metadata": {},
   "outputs": [
    {
     "data": {
      "application/vnd.jupyter.widget-view+json": {
       "model_id": "f28d3329d4344702961de24787515a56",
       "version_major": 2,
       "version_minor": 0
      },
      "text/plain": [
       "interactive(children=(IntSlider(value=25, description='match', max=50, min=1), Output()), _dom_classes=('widge…"
      ]
     },
     "metadata": {},
     "output_type": "display_data"
    }
   ],
   "source": [
    "@widgets.interact()\n",
    "def show_match(match=(1, 50)):\n",
    "\n",
    "    plt.figure(figsize=(20, 6))\n",
    "    plt.grid(True)\n",
    "\n",
    "    some_match = time_df[time_df['match_id'] == match]\n",
    "    does_win = matches_df.at[match, 'radiant_win']\n",
    "    winner = 'Radiant' if does_win else 'Dire'\n",
    "\n",
    "    g1 = sns.lineplot(data=some_match, y='mean_gold_diff', x='times', label='Teams Mean Gold Different')\n",
    "    g2 = sns.lineplot(data=some_match, y='mean_xp_diff', x='times', label='Teams Mean Experience Different')\n",
    "\n",
    "    date_form = DateFormatter(\"%M\")\n",
    "    g1.xaxis.set_major_formatter(date_form)\n",
    "\n",
    "    x_label = f'minutes \\ {winner} wins'\n",
    "\n",
    "    g1.set(xlabel=x_label, ylabel='Radiant \\ Dire Gold and Experience Difference');\n",
    "    return match"
   ]
  },
  {
   "cell_type": "markdown",
   "metadata": {},
   "source": [
    "## Logistic regression on a time window of 5 minutes"
   ]
  },
  {
   "cell_type": "code",
   "execution_count": 9,
   "metadata": {},
   "outputs": [],
   "source": [
    "def train(X_train, y_train, minute, model = LogisticRegression()):\n",
    "    ncols = X_train.shape[1]\n",
    "    start = max(0, minute - 6)\n",
    "    end = min(ncols - 1, minute - 1)\n",
    "\n",
    "    is_present = -X_train.iloc[:, start:end].isna().any(axis=1)\n",
    "\n",
    "    return model.fit(X_train[is_present].iloc[:, start:end], y_train[is_present])"
   ]
  },
  {
   "cell_type": "code",
   "execution_count": 23,
   "metadata": {},
   "outputs": [],
   "source": [
    "X_train, X_test, y_train, y_test = train_test_split(match_time_df, matches_df['radiant_win'], test_size=0.8, random_state=1)\n",
    "\n",
    "test_match = X_test.iloc[10:11, :]\n",
    "does_win = y_test[0]\n",
    "\n",
    "model = train(X_train, y_train, 26)\n",
    "\n",
    "game_minutes = range(6, 40)\n",
    "models = [(train(X_train, y_train, minute), minute) for minute in game_minutes]\n",
    "probs = [model.predict_proba(X_test.iloc[6:7, i-6:i-1].dropna())[0] for model, i in models]\n",
    "\n",
    "# probs_df = pd.DataFrame([{'radiant_win_probability': prob[0], 'dire_win_probability': prob[1]} for prob in probs])"
   ]
  },
  {
   "cell_type": "markdown",
   "metadata": {
    "jupyter": {
     "source_hidden": true
    }
   },
   "source": [
    "## Probability of winning visualization\n"
   ]
  },
  {
   "cell_type": "code",
   "execution_count": 24,
   "metadata": {},
   "outputs": [
    {
     "data": {
      "application/vnd.jupyter.widget-view+json": {
       "model_id": "2126738dbccb49559816d4bc31a2dc75",
       "version_major": 2,
       "version_minor": 0
      },
      "text/plain": [
       "interactive(children=(Dropdown(description='match_id', options=(26247, 35067, 34590, 16668, 12196, 2600, 9047,…"
      ]
     },
     "metadata": {},
     "output_type": "display_data"
    }
   ],
   "source": [
    "@widgets.interact()\n",
    "def show_probs_plot(match_id = X_test.index):\n",
    "    match = X_test.iloc[match_id:match_id+1, :]\n",
    "    probs = [model.predict_proba(match.iloc[:, i-6:i-1].dropna())[0] for model, i in models]\n",
    "    probs_df = pd.DataFrame([{'radiant_win_probability': prob[1], 'dire_win_probability': prob[0]} for prob in probs])\n",
    "\n",
    "    probs_df['radiant_win_probability']\n",
    "    winner = 'Radiant' if does_win else 'Dire'\n",
    "    x_indexer = range(6, 40)\n",
    "    g1 = sns.lineplot(data=probs_df, y='dire_win_probability', x=x_indexer, label='Dire Wins')\n",
    "    g2 = sns.lineplot(data=probs_df, y='radiant_win_probability', x=x_indexer, label='Radiant Wins')\n",
    "\n",
    "    g1.set(xlabel=f'minutes of the game \\ {winner} wins', ylabel='Teams win probability');\n",
    "    return match_id"
   ]
  },
  {
   "cell_type": "code",
   "execution_count": null,
   "metadata": {},
   "outputs": [],
   "source": []
  }
 ],
 "metadata": {
  "kernelspec": {
   "display_name": "Python 3",
   "language": "python",
   "name": "python3"
  },
  "language_info": {
   "codemirror_mode": {
    "name": "ipython",
    "version": 3
   },
   "file_extension": ".py",
   "mimetype": "text/x-python",
   "name": "python",
   "nbconvert_exporter": "python",
   "pygments_lexer": "ipython3",
   "version": "3.8.3"
  }
 },
 "nbformat": 4,
 "nbformat_minor": 4
}
